{
 "metadata": {
  "language_info": {
   "codemirror_mode": {
    "name": "ipython",
    "version": 3
   },
   "file_extension": ".py",
   "mimetype": "text/x-python",
   "name": "python",
   "nbconvert_exporter": "python",
   "pygments_lexer": "ipython3",
   "version": "3.8.3-final"
  },
  "orig_nbformat": 2,
  "kernelspec": {
   "name": "python3",
   "display_name": "Python 3",
   "language": "python"
  }
 },
 "nbformat": 4,
 "nbformat_minor": 2,
 "cells": [
  {
   "source": [
    "## Modules"
   ],
   "cell_type": "markdown",
   "metadata": {}
  },
  {
   "cell_type": "code",
   "execution_count": 2,
   "metadata": {},
   "outputs": [
    {
     "output_type": "stream",
     "name": "stderr",
     "text": [
      "[nltk_data] Downloading package punkt to /Users/Cookie/nltk_data...\n[nltk_data]   Package punkt is already up-to-date!\n[nltk_data] Downloading package stopwords to\n[nltk_data]     /Users/Cookie/nltk_data...\n[nltk_data]   Package stopwords is already up-to-date!\n[nltk_data] Downloading package wordnet to /Users/Cookie/nltk_data...\n[nltk_data]   Package wordnet is already up-to-date!\n"
     ]
    }
   ],
   "source": [
    "## Tidying\n",
    "import numpy as np\n",
    "import pandas as pd\n",
    "import re\n",
    "import datetime\n",
    "\n",
    "## NLP\n",
    "import nltk\n",
    "## Might need to download these\n",
    "nltk.download('punkt')\n",
    "nltk.download('stopwords')\n",
    "nltk.download('wordnet')\n",
    "##\n",
    "from nltk.tokenize import sent_tokenize, word_tokenize\n",
    "from nltk.corpus import stopwords\n",
    "from nltk.stem import WordNetLemmatizer\n",
    "\n",
    "## Viz\n",
    "import matplotlib.pyplot as plt\n",
    "import seaborn"
   ]
  },
  {
   "source": [
    "## Reading in Extracts"
   ],
   "cell_type": "markdown",
   "metadata": {}
  },
  {
   "cell_type": "code",
   "execution_count": 14,
   "metadata": {},
   "outputs": [
    {
     "output_type": "execute_result",
     "data": {
      "text/plain": [
       "   Unnamed: 0        Date                            OverallEconomicActivity  \\\n",
       "0           0  2017-01-18  Reports from the twelve Federal Reserve Distri...   \n",
       "1           1  2017-03-01  Reports from all twelve Federal Reserve Distri...   \n",
       "\n",
       "                                    EmploymentPrices  \\\n",
       "0  Labor markets were reported to be tight or tig...   \n",
       "1  Labor markets remained tight in early 2017, wi...   \n",
       "\n",
       "                   OverallEconomicActivity_sentences  \\\n",
       "0  ['Reports from the twelve Federal Reserve Dist...   \n",
       "1  ['Reports from all twelve Federal Reserve Dist...   \n",
       "\n",
       "                          EmploymentPrices_sentences  \\\n",
       "0  ['Labor markets were reported to be tight or t...   \n",
       "1  ['Labor markets remained tight in early 2017, ...   \n",
       "\n",
       "                       OverallEconomicActivity_words  \\\n",
       "0  ['report', 'from', 'the', 'twelve', 'federal',...   \n",
       "1  ['report', 'from', 'all', 'twelve', 'federal',...   \n",
       "\n",
       "                              EmploymentPrices_words  \n",
       "0  ['labor', 'market', 'were', 'reported', 'to', ...  \n",
       "1  ['labor', 'market', 'remained', 'tight', 'in',...  "
      ],
      "text/html": "<div>\n<style scoped>\n    .dataframe tbody tr th:only-of-type {\n        vertical-align: middle;\n    }\n\n    .dataframe tbody tr th {\n        vertical-align: top;\n    }\n\n    .dataframe thead th {\n        text-align: right;\n    }\n</style>\n<table border=\"1\" class=\"dataframe\">\n  <thead>\n    <tr style=\"text-align: right;\">\n      <th></th>\n      <th>Unnamed: 0</th>\n      <th>Date</th>\n      <th>OverallEconomicActivity</th>\n      <th>EmploymentPrices</th>\n      <th>OverallEconomicActivity_sentences</th>\n      <th>EmploymentPrices_sentences</th>\n      <th>OverallEconomicActivity_words</th>\n      <th>EmploymentPrices_words</th>\n    </tr>\n  </thead>\n  <tbody>\n    <tr>\n      <th>0</th>\n      <td>0</td>\n      <td>2017-01-18</td>\n      <td>Reports from the twelve Federal Reserve Distri...</td>\n      <td>Labor markets were reported to be tight or tig...</td>\n      <td>['Reports from the twelve Federal Reserve Dist...</td>\n      <td>['Labor markets were reported to be tight or t...</td>\n      <td>['report', 'from', 'the', 'twelve', 'federal',...</td>\n      <td>['labor', 'market', 'were', 'reported', 'to', ...</td>\n    </tr>\n    <tr>\n      <th>1</th>\n      <td>1</td>\n      <td>2017-03-01</td>\n      <td>Reports from all twelve Federal Reserve Distri...</td>\n      <td>Labor markets remained tight in early 2017, wi...</td>\n      <td>['Reports from all twelve Federal Reserve Dist...</td>\n      <td>['Labor markets remained tight in early 2017, ...</td>\n      <td>['report', 'from', 'all', 'twelve', 'federal',...</td>\n      <td>['labor', 'market', 'remained', 'tight', 'in',...</td>\n    </tr>\n  </tbody>\n</table>\n</div>"
     },
     "metadata": {},
     "execution_count": 14
    }
   ],
   "source": [
    "beigeBookExtracts = pd.read_csv('beigeBookExtracts.csv')\n",
    "beigeBookExtracts.head(2)"
   ]
  },
  {
   "source": [
    "## Determining Word Density"
   ],
   "cell_type": "markdown",
   "metadata": {}
  },
  {
   "cell_type": "code",
   "execution_count": 18,
   "metadata": {},
   "outputs": [
    {
     "output_type": "stream",
     "name": "stdout",
     "text": [
      "['report', 'from', 'the', 'twelve', 'federal', 'reserve', 'district', 'indicated', 'that', 'the', 'economy', 'continued', 'to', 'expand', 'at', 'a', 'modest', 'pace', 'across', 'most', 'region', 'from', 'late', 'november', 'through', 'the', 'end', 'of', 'the', 'year', '.', 'manufacturer', 'in', 'most', 'district', 'reported', 'increased', 'sale', 'with', 'several', 'citing', 'a', 'turnaround', 'versus', 'earlier', 'in', '2016.', 'growth', 'in', 'the', 'energy', 'industry', 'wa', 'mixed', ';', 'two', 'district', 'reported', 'weakness', 'in', 'coal', 'production', 'but', 'others', 'reported', 'improvement', 'in', 'coal', ',', 'oil', ',', 'or', 'gas', 'activity', '.', 'most', 'district', 'said', 'that', 'non-auto', 'retail', 'sale', 'had', 'expanded', ',', 'but', 'several', 'noted', 'that', 'sale', 'over', 'the', 'holiday', 'season', 'were', 'disappointing', 'and', 'report', 'in', 'more', 'than', 'one', 'district', 'suggested', 'that', 'growth', 'in', 'e-commerce', 'had', 'come', 'at', 'the', 'expense', 'of', 'bricks-and-mortar', 'retailer', '.', 'all', 'district', 'reported', 'varying', 'degree', 'of', 'growth', 'in', 'employment', 'and', 'a', 'majority', 'described', 'their', 'labor', 'market', 'a', 'tight', '.', 'residential', 'construction', 'and', 'sale', 'were', 'generally', 'mixed', ',', 'although', 'san', 'francisco', 'reported', 'strong', 'real', 'estate', 'market', 'activity', 'throughout', 'the', '12th', 'district', '.', 'financial', 'condition', 'were', 'stable', '.', 'firm', 'across', 'the', 'country', 'and', 'industry', 'were', 'said', 'to', 'be', 'optimistic', 'about', 'growth', 'in', '2017', '.']\n[(\"'\", 358), (',', 182), (' ', 178), ('e', 109), ('t', 102), ('r', 83), ('a', 71), ('i', 69), ('o', 67), ('n', 57)]\n"
     ]
    }
   ],
   "source": [
    "from nltk import FreqDist\n",
    "\n",
    "print(beigeBookExtracts.OverallEconomicActivity_words[0])\n",
    "\n",
    "def get_all_words(cleaned_tokens_list):\n",
    "    for tokens in cleaned_tokens_list:\n",
    "        for token in tokens:\n",
    "            yield token\n",
    "\n",
    "all_words = get_all_words(beigeBookExtracts.OverallEconomicActivity_words[0])\n",
    "\n",
    "freq_dist_pos = FreqDist(all_words)\n",
    "print(freq_dist_pos.most_common(10))"
   ]
  }
 ]
}